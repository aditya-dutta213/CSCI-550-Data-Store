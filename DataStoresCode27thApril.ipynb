{
 "cells": [
  {
   "cell_type": "markdown",
   "id": "6ac38110",
   "metadata": {},
   "source": [
    "# Running Time"
   ]
  },
  {
   "cell_type": "code",
   "execution_count": 1,
   "id": "4423a65d",
   "metadata": {},
   "outputs": [
    {
     "name": "stdout",
     "output_type": "stream",
     "text": [
      "Requirement already satisfied: mysql-connector-python in c:\\users\\achau\\anaconda3\\anaconda1\\lib\\site-packages (8.3.0)\n",
      "Requirement already satisfied: redis in c:\\users\\achau\\anaconda3\\anaconda1\\lib\\site-packages (5.0.3)\n",
      "Requirement already satisfied: elasticsearch in c:\\users\\achau\\anaconda3\\anaconda1\\lib\\site-packages (7.13.4)\n",
      "Requirement already satisfied: urllib3<2,>=1.21.1 in c:\\users\\achau\\anaconda3\\anaconda1\\lib\\site-packages (from elasticsearch) (1.26.16)\n",
      "Requirement already satisfied: certifi in c:\\users\\achau\\anaconda3\\anaconda1\\lib\\site-packages (from elasticsearch) (2023.7.22)\n"
     ]
    }
   ],
   "source": [
    "!pip install mysql-connector-python redis elasticsearch\n",
    "\n"
   ]
  },
  {
   "cell_type": "code",
   "execution_count": 8,
   "id": "9de83425",
   "metadata": {},
   "outputs": [
    {
     "name": "stdout",
     "output_type": "stream",
     "text": [
      "MySQL Version: ('8.3.0',)\n",
      "Redis Test: Hello Redis\n",
      "Elasticsearch Index Test: {'hello': 'elasticsearch'}\n"
     ]
    }
   ],
   "source": [
    "import mysql.connector\n",
    "import redis\n",
    "from elasticsearch import Elasticsearch\n",
    "\n",
    "# Connect to MySQL\n",
    "mysql_conn = mysql.connector.connect(\n",
    "    host=\"localhost\",\n",
    "    user=\"root\",\n",
    "    password=\"mysecret\",\n",
    "    database=\"testdb\"\n",
    ")\n",
    "mysql_cursor = mysql_conn.cursor()\n",
    "mysql_cursor.execute(\"SELECT VERSION();\")\n",
    "print(\"MySQL Version:\", mysql_cursor.fetchone())\n",
    "\n",
    "# Connect to Redis\n",
    "redis_conn = redis.Redis(host='localhost', port=6379, db=0)\n",
    "redis_conn.set('test', 'Hello Redis')\n",
    "print(\"Redis Test:\", redis_conn.get('test').decode())\n",
    "\n",
    "# Connect to Elasticsearch\n",
    "es = Elasticsearch([\"http://localhost:9200\"])\n",
    "es.indices.create(index='test-index', ignore=400)\n",
    "doc = {\"hello\": \"elasticsearch\"}\n",
    "es.index(index=\"test-index\", id=1, body=doc)\n",
    "print(\"Elasticsearch Index Test:\", es.get(index=\"test-index\", id=1)['_source'])\n"
   ]
  },
  {
   "cell_type": "code",
   "execution_count": 16,
   "id": "c3b625c0",
   "metadata": {},
   "outputs": [],
   "source": [
    "import mysql.connector\n",
    "import redis\n",
    "from elasticsearch import Elasticsearch\n",
    "from time import sleep\n",
    "\n",
    "def connect_mysql():\n",
    "    return mysql.connector.connect(\n",
    "        host=\"localhost\",\n",
    "        user=\"root\",\n",
    "        password=\"mysecret\",\n",
    "        database=\"testdb\"\n",
    "    )\n",
    "\n",
    "def connect_redis():\n",
    "    return redis.Redis(host='localhost', port=6379, db=0)\n",
    "\n",
    "def connect_elasticsearch():\n",
    "    return Elasticsearch([\"http://localhost:9200\"])\n",
    "\n",
    "# Function to sync data across MySQL, Redis, and Elasticsearch\n",
    "def sync_data():\n",
    "    mysql_conn = connect_mysql()\n",
    "    redis_conn = connect_redis()\n",
    "    es = connect_elasticsearch()\n",
    "\n",
    "    cursor = mysql_conn.cursor()\n",
    "    cursor.execute(\"SELECT id, username, email FROM users ORDER BY id DESC LIMIT 1;\")\n",
    "    latest_user = cursor.fetchone()\n",
    "    \n",
    "    if latest_user:\n",
    "        user_id, username, email = latest_user\n",
    "        # Sync to Redis\n",
    "        redis_conn.set(f\"user:{user_id}:username\", username)\n",
    "        redis_conn.set(f\"user:{user_id}:email\", email)\n",
    "\n",
    "        # Sync to Elasticsearch\n",
    "        doc = {\n",
    "            \"username\": username,\n",
    "            \"email\": email\n",
    "        }\n",
    "        es.index(index=\"users\", id=user_id, body=doc)\n",
    "        print(f\"Data synced for user {user_id}\")\n",
    "\n",
    "    cursor.close()\n",
    "    mysql_conn.close()\n",
    "sync_data()\n",
    "# Periodically check for new data\n",
    "# while True:\n",
    "#     sync_data()\n",
    "#     sleep(100)  # sleep for 10 seconds before next check\n"
   ]
  },
  {
   "cell_type": "code",
   "execution_count": 19,
   "id": "9fdcb5e3",
   "metadata": {},
   "outputs": [
    {
     "name": "stdout",
     "output_type": "stream",
     "text": [
      "MySQL Write Time: 0.0025 seconds\n",
      "MySQL Read Time: 0.0017 seconds\n",
      "Redis Write Time: 0.0059 seconds\n",
      "Redis Read Time: 0.0008 seconds\n",
      "Elasticsearch Write Time: 0.0186 seconds\n",
      "Elasticsearch Read Time: 0.0066 seconds\n"
     ]
    }
   ],
   "source": [
    "import time\n",
    "\n",
    "def benchmark_mysql(cursor):\n",
    "    start_time = time.perf_counter()\n",
    "    cursor.execute(\"INSERT INTO users (username, email) VALUES ('testuser', 'test@example.com')\")\n",
    "    elapsed = time.perf_counter() - start_time\n",
    "    print(f\"MySQL Write Time: {elapsed:.4f} seconds\")\n",
    "\n",
    "    start_time = time.perf_counter()\n",
    "    cursor.execute(\"SELECT * FROM users WHERE username = 'testuser'\")\n",
    "    results = cursor.fetchall()\n",
    "    elapsed = time.perf_counter() - start_time\n",
    "    print(f\"MySQL Read Time: {elapsed:.4f} seconds\")\n",
    "\n",
    "def benchmark_redis(redis_conn):\n",
    "    start_time = time.perf_counter()\n",
    "    redis_conn.set(\"testkey\", \"testvalue\")\n",
    "    elapsed = time.perf_counter() - start_time\n",
    "    print(f\"Redis Write Time: {elapsed:.4f} seconds\")\n",
    "\n",
    "    start_time = time.perf_counter()\n",
    "    value = redis_conn.get(\"testkey\")\n",
    "    elapsed = time.perf_counter() - start_time\n",
    "    print(f\"Redis Read Time: {elapsed:.4f} seconds\")\n",
    "\n",
    "def benchmark_elasticsearch(es):\n",
    "    doc = {\"username\": \"testuser\", \"email\": \"test@example.com\"}\n",
    "    start_time = time.perf_counter()\n",
    "    es.index(index=\"users\", id=1, body=doc)\n",
    "    elapsed = time.perf_counter() - start_time\n",
    "    print(f\"Elasticsearch Write Time: {elapsed:.4f} seconds\")\n",
    "\n",
    "    start_time = time.perf_counter()\n",
    "    result = es.get(index=\"users\", id=1)\n",
    "    elapsed = time.perf_counter() - start_time\n",
    "    print(f\"Elasticsearch Read Time: {elapsed:.4f} seconds\")\n",
    "\n",
    "mysql_conn = connect_mysql()\n",
    "cursor = mysql_conn.cursor()\n",
    "redis_conn = connect_redis()\n",
    "es = connect_elasticsearch()\n",
    "\n",
    "benchmark_mysql(cursor)\n",
    "benchmark_redis(redis_conn)\n",
    "benchmark_elasticsearch(es)\n",
    "\n",
    "cursor.close()\n",
    "mysql_conn.close()\n"
   ]
  },
  {
   "cell_type": "markdown",
   "id": "30f0e8cd",
   "metadata": {},
   "source": [
    "# Throughput"
   ]
  },
  {
   "cell_type": "code",
   "execution_count": 26,
   "id": "015139f2",
   "metadata": {},
   "outputs": [],
   "source": [
    "import faker\n",
    "fake = faker.Faker()\n",
    "\n",
    "def generate_user_data(num_records):\n",
    "    return [{\n",
    "        'username': fake.user_name(),\n",
    "        'email': fake.email(),\n",
    "        'description': fake.text(),\n",
    "        'created_at': fake.date_time_this_decade().isoformat()\n",
    "    } for _ in range(num_records)]\n"
   ]
  },
  {
   "cell_type": "code",
   "execution_count": 29,
   "id": "64355bc8",
   "metadata": {},
   "outputs": [],
   "source": [
    "import mysql.connector\n",
    "import redis\n",
    "from elasticsearch import Elasticsearch\n",
    "import time\n",
    "\n",
    "def connect_mysql():\n",
    "    return mysql.connector.connect(\n",
    "        host=\"localhost\",\n",
    "        user=\"root\",\n",
    "        password=\"mysecret\",\n",
    "        database=\"new_testdb\"\n",
    "    )\n",
    "\n",
    "def connect_redis():\n",
    "    return redis.Redis(host='localhost', port=6379, db=0)\n",
    "\n",
    "def connect_elasticsearch():\n",
    "    return Elasticsearch([\"http://localhost:9200\"])\n",
    "\n",
    "def insert_mysql_data(mysql_conn, data):\n",
    "    cursor = mysql_conn.cursor()\n",
    "    start_time = time.perf_counter()\n",
    "    try:\n",
    "        for user in data:\n",
    "            cursor.execute(\"INSERT INTO users (username, email, description, created_at) VALUES (%s, %s, %s, %s)\",\n",
    "                           (user['username'], user['email'], user['description'], user['created_at']))\n",
    "        mysql_conn.commit()  # Committing changes directly through the connection object\n",
    "    except mysql.connector.Error as e:\n",
    "        print(\"Error:\", e)\n",
    "    finally:\n",
    "        cursor.close()  # Make sure to close the cursor here\n",
    "    elapsed = time.perf_counter() - start_time\n",
    "    throughput = len(data) / elapsed\n",
    "    print(f\"MySQL Throughput: {throughput:.2f} transactions per second\")\n",
    "\n",
    "\n",
    "def insert_redis_data(redis_conn, data):\n",
    "    start_time = time.perf_counter()\n",
    "    for i, user in enumerate(data):\n",
    "        redis_conn.set(f\"user:{i}:username\", user['username'])\n",
    "        redis_conn.set(f\"user:{i}:email\", user['email'])\n",
    "    elapsed = time.perf_counter() - start_time\n",
    "    throughput = len(data) / elapsed\n",
    "    print(f\"Redis Throughput: {throughput:.2f} transactions per second\")\n",
    "\n",
    "def insert_elasticsearch_data(es, data):\n",
    "    start_time = time.perf_counter()\n",
    "    for i, user in enumerate(data):\n",
    "        doc = {'username': user['username'], 'email': user['email'], 'description': user['description'], 'created_at': user['created_at']}\n",
    "        es.index(index=\"new_users\", id=i, body=doc)\n",
    "    elapsed = time.perf_counter() - start_time\n",
    "    throughput = len(data) / elapsed\n",
    "    print(f\"Elasticsearch Throughput: {throughput:.2f} transactions per second\")\n"
   ]
  },
  {
   "cell_type": "code",
   "execution_count": 34,
   "id": "5f534b19",
   "metadata": {},
   "outputs": [
    {
     "name": "stdout",
     "output_type": "stream",
     "text": [
      "MySQL Throughput: 714.00 transactions per second\n",
      "Redis Throughput: 487.70 transactions per second\n",
      "Elasticsearch Throughput: 19.68 transactions per second\n"
     ]
    }
   ],
   "source": [
    "# Generate data\n",
    "mysql_conn = connect_mysql()\n",
    "data = generate_user_data(5000)  # Generate 1000 user records\n",
    "insert_mysql_data(mysql_conn, data)  # Test MySQL throughput using the connection\n",
    "mysql_conn.close()  # Close the connection after operations are done\n",
    "\n",
    "\n",
    "redis_conn = connect_redis()\n",
    "insert_redis_data(redis_conn, data)  # Test Redis throughput\n",
    "\n",
    "es = connect_elasticsearch()\n",
    "insert_elasticsearch_data(es, data)  # Test Elasticsearch throughput\n"
   ]
  },
  {
   "cell_type": "markdown",
   "id": "3c2cc914",
   "metadata": {},
   "source": [
    "# Running Time on NEW DB"
   ]
  },
  {
   "cell_type": "code",
   "execution_count": 43,
   "id": "9a4dba36",
   "metadata": {},
   "outputs": [],
   "source": [
    "def benchmark_mysql_query(mysql_conn):\n",
    "    cursor = mysql_conn.cursor()\n",
    "    start_times = []\n",
    "\n",
    "    # Execute multiple reads to calculate average time\n",
    "    for _ in range(5000):  # Number of sample queries to average\n",
    "        start_time = time.perf_counter()\n",
    "        cursor.execute(\"SELECT * FROM users WHERE email LIKE '%example.com'\")\n",
    "        _ = cursor.fetchall()\n",
    "        elapsed = time.perf_counter() - start_time\n",
    "        start_times.append(elapsed)\n",
    "\n",
    "    avg_time = sum(start_times) / len(start_times)\n",
    "    print(f\"MySQL Average Query Time: {avg_time:.4f} seconds\")\n",
    "    cursor.close()\n"
   ]
  },
  {
   "cell_type": "code",
   "execution_count": 44,
   "id": "f8d6b7eb",
   "metadata": {},
   "outputs": [],
   "source": [
    "def benchmark_redis_query(redis_conn):\n",
    "    start_times = []\n",
    "\n",
    "    # Assuming keys are like user:1, user:2, ..., user:100\n",
    "    for i in range(1, 5001):\n",
    "        start_time = time.perf_counter()\n",
    "        _ = redis_conn.get(f\"user:{i}:email\")  # Direct access if keys are known\n",
    "        elapsed = time.perf_counter() - start_time\n",
    "        start_times.append(elapsed)\n",
    "\n",
    "    avg_time = sum(start_times) / len(start_times)\n",
    "    print(f\"Redis Average Query Time: {avg_time:.4f} seconds\")\n"
   ]
  },
  {
   "cell_type": "code",
   "execution_count": 45,
   "id": "054a45f2",
   "metadata": {},
   "outputs": [],
   "source": [
    "def benchmark_elasticsearch_query(es):\n",
    "    start_times = []\n",
    "\n",
    "    for _ in range(5000):  # Number of sample queries to average\n",
    "        start_time = time.perf_counter()\n",
    "        es.search(index=\"users\", body={\"query\": {\"match\": {\"email\": \"example.com\"}}})\n",
    "        elapsed = time.perf_counter() - start_time\n",
    "        start_times.append(elapsed)\n",
    "\n",
    "    avg_time = sum(start_times) / len(start_times)\n",
    "    print(f\"Elasticsearch Average Query Time: {avg_time:.4f} seconds\")\n"
   ]
  },
  {
   "cell_type": "code",
   "execution_count": 46,
   "id": "49104ce6",
   "metadata": {},
   "outputs": [
    {
     "name": "stdout",
     "output_type": "stream",
     "text": [
      "MySQL Average Query Time: 0.0163 seconds\n",
      "Redis Average Query Time: 0.0009 seconds\n",
      "Elasticsearch Average Query Time: 0.0503 seconds\n"
     ]
    }
   ],
   "source": [
    "mysql_conn = connect_mysql()\n",
    "benchmark_mysql_query(mysql_conn)\n",
    "mysql_conn.close()\n",
    "\n",
    "redis_conn = connect_redis()\n",
    "benchmark_redis_query(redis_conn)\n",
    "\n",
    "es = connect_elasticsearch()\n",
    "benchmark_elasticsearch_query(es)\n"
   ]
  },
  {
   "cell_type": "markdown",
   "id": "901f7c3a",
   "metadata": {},
   "source": [
    "# Full-Text Searches Running Time"
   ]
  },
  {
   "cell_type": "code",
   "execution_count": 57,
   "id": "20f674b0",
   "metadata": {},
   "outputs": [],
   "source": [
    "def benchmark_mysql_fulltext_search(mysql_conn):\n",
    "    cursor = mysql_conn.cursor()\n",
    "    start_times = []\n",
    "\n",
    "    # Perform multiple full-text search queries to calculate average time\n",
    "    for _ in range(5000):  # Adjust the number of queries for better averaging\n",
    "        query = \"SELECT * FROM users WHERE MATCH(description) AGAINST('+data +structures' IN BOOLEAN MODE);\"\n",
    "        start_time = time.perf_counter()\n",
    "        cursor.execute(query)\n",
    "        _ = cursor.fetchall()\n",
    "        elapsed = time.perf_counter() - start_time\n",
    "        start_times.append(elapsed)\n",
    "\n",
    "    avg_time = sum(start_times) / len(start_times)\n",
    "    print(f\"ElasticSearch Full-Text Search Average Time: {avg_time:.4f} seconds\")\n",
    "    cursor.close()\n"
   ]
  },
  {
   "cell_type": "code",
   "execution_count": 58,
   "id": "4cb398d2",
   "metadata": {},
   "outputs": [],
   "source": [
    "def benchmark_elasticsearch_fulltext_search(es):\n",
    "    start_times = []\n",
    "\n",
    "    for _ in range(5000):  # Similar number of queries for consistency\n",
    "        start_time = time.perf_counter()\n",
    "        es.search(index=\"users\", body={\n",
    "            \"query\": {\n",
    "                \"match\": {\n",
    "                    \"description\": {\n",
    "                        \"query\": \"data structures\",\n",
    "                        \"operator\": \"and\"\n",
    "                    }\n",
    "                }\n",
    "            }\n",
    "        })\n",
    "        elapsed = time.perf_counter() - start_time\n",
    "        start_times.append(elapsed)\n",
    "\n",
    "    avg_time = sum(start_times) / len(start_times)\n",
    "    print(f\"MySQL Full-Text Search Average Time: {avg_time:.4f} seconds\")\n"
   ]
  },
  {
   "cell_type": "code",
   "execution_count": 59,
   "id": "bf9b7f95",
   "metadata": {},
   "outputs": [
    {
     "name": "stdout",
     "output_type": "stream",
     "text": [
      "ElasticSearch Full-Text Search Average Time: 0.0014 seconds\n",
      "MySQL Full-Text Search Average Time: 0.0503 seconds\n"
     ]
    }
   ],
   "source": [
    "mysql_conn = connect_mysql()\n",
    "benchmark_mysql_fulltext_search(mysql_conn)\n",
    "mysql_conn.close()\n",
    "\n",
    "es = connect_elasticsearch()\n",
    "benchmark_elasticsearch_fulltext_search(es)\n"
   ]
  },
  {
   "cell_type": "code",
   "execution_count": null,
   "id": "1651abd8",
   "metadata": {},
   "outputs": [],
   "source": []
  }
 ],
 "metadata": {
  "kernelspec": {
   "display_name": "Python 3 (ipykernel)",
   "language": "python",
   "name": "python3"
  },
  "language_info": {
   "codemirror_mode": {
    "name": "ipython",
    "version": 3
   },
   "file_extension": ".py",
   "mimetype": "text/x-python",
   "name": "python",
   "nbconvert_exporter": "python",
   "pygments_lexer": "ipython3",
   "version": "3.11.5"
  }
 },
 "nbformat": 4,
 "nbformat_minor": 5
}
